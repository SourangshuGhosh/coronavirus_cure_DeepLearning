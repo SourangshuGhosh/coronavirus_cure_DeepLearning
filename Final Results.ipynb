{
 "cells": [
  {
   "cell_type": "markdown",
   "metadata": {},
   "source": [
    "# Description\n",
    "\n",
    "This notebook is used to tabulate final results and compare novel generated molecules vs HIV inhibitors vs Remdesivir which entered clinical trials just a few days ago."
   ]
  },
  {
   "cell_type": "markdown",
   "metadata": {},
   "source": [
    "## Now the best results and save to sdf for last double check tabulation in PyRx"
   ]
  },
  {
   "cell_type": "code",
   "execution_count": null,
   "metadata": {},
   "outputs": [],
   "source": [
    "import pandas as pd\n",
    "from rdkit import Chem, DataStructs\n",
    "import random\n",
    "import numpy as np\n",
    "import rdkit.Chem.PropertyMol"
   ]
  },
  {
   "cell_type": "code",
   "execution_count": null,
   "metadata": {},
   "outputs": [],
   "source": [
    "final = pd.read_csv('./generations/master_results_table_gen10.csv',sep=',')\n",
    "final = final.sort_values('score', ascending=True)\n",
    "print(final.shape)\n",
    "final.head()"
   ]
  },
  {
   "cell_type": "code",
   "execution_count": null,
   "metadata": {},
   "outputs": [],
   "source": [
    "final_max = final.groupby(\"smile\").max()[[\"score\",\"gen\"]].reset_index()\n",
    "final_max = final_max.sort_values('score', ascending=True)\n",
    "print(final_max.shape)\n",
    "final_max.head()"
   ]
  },
  {
   "cell_type": "code",
   "execution_count": null,
   "metadata": {},
   "outputs": [],
   "source": [
    "final_joined = pd.merge(final_max, final, on=['smile','gen'], suffixes=('_old','_new'), how='left')\n",
    "final_joined = final_joined[(final_joined['score_new'] <= -15.0) & (final_joined['weight'] < 900)]\n",
    "final_joined['score'] = final_joined['score_new']\n",
    "final_joined = final_joined.drop('score_old', axis=1)\n",
    "final_joined = final_joined.drop('score_new', axis=1)\n",
    "print(final_joined.shape)\n",
    "final_joined.head()"
   ]
  },
  {
   "cell_type": "code",
   "execution_count": null,
   "metadata": {},
   "outputs": [],
   "source": [
    "hiv = final[final['source'] == 'hiv']\n",
    "hiv.head()"
   ]
  },
  {
   "cell_type": "code",
   "execution_count": null,
   "metadata": {},
   "outputs": [],
   "source": [
    "final_table = final_joined.append(hiv)\n",
    "final_table.head()"
   ]
  },
  {
   "cell_type": "code",
   "execution_count": null,
   "metadata": {},
   "outputs": [],
   "source": [
    "# Note I also manually added Remdesivir because as working on this it went into clinical trials\n",
    "# https://en.wikipedia.org/wiki/Remdesivir\n",
    "final_table.to_csv(r'./generations/master_results_table_final2.csv', index=False)"
   ]
  },
  {
   "cell_type": "code",
   "execution_count": null,
   "metadata": {},
   "outputs": [],
   "source": [
    "final_table = pd.read_csv('./generations/master_results_table_final.csv')\n",
    "final_table.tail()"
   ]
  },
  {
   "cell_type": "code",
   "execution_count": null,
   "metadata": {},
   "outputs": [],
   "source": [
    "def set_molecule(row):\n",
    "    mol = Chem.MolFromSmiles(row['smile'])\n",
    "    pm = Chem.PropertyMol.PropertyMol(mol)\n",
    "    title = 'id' + str(row['id']) + 'gen'+ str(row['gen'])\n",
    "#     print(title)\n",
    "    # Enables for tracking which molecule is which in PyRx GUI and PyRx results export\n",
    "    pm.SetProp('Title', title)\n",
    "    return pm"
   ]
  },
  {
   "cell_type": "code",
   "execution_count": null,
   "metadata": {},
   "outputs": [],
   "source": [
    "mols_for_export = final_table.apply(set_molecule, axis=1)\n",
    "# list(mols_for_export)"
   ]
  },
  {
   "cell_type": "code",
   "execution_count": null,
   "metadata": {},
   "outputs": [],
   "source": [
    "w = Chem.SDWriter('./generations/genfinal.sdf')\n",
    "for m in mols_for_export:\n",
    "    w.write(m)"
   ]
  },
  {
   "cell_type": "markdown",
   "metadata": {},
   "source": [
    "## Rerun everything through PyRx once more to double check, then publish final metrics"
   ]
  },
  {
   "cell_type": "code",
   "execution_count": null,
   "metadata": {},
   "outputs": [],
   "source": [
    "new_scores = pd.read_csv('./generations/results/results_genfinal.csv',sep=',')\n",
    "new_scores.head()"
   ]
  },
  {
   "cell_type": "code",
   "execution_count": null,
   "metadata": {},
   "outputs": [],
   "source": [
    "new_scores = new_scores.groupby(\"Ligand\").agg({'Binding Affinity': [np.min,np.average]}).reset_index()\n",
    "new_scores.head()"
   ]
  },
  {
   "cell_type": "code",
   "execution_count": null,
   "metadata": {},
   "outputs": [],
   "source": [
    "new_scores['id'] = new_scores['Ligand'].str.split(\"_\").str[1].str.split(\"gen\").str[0].str.split(\"id\").str[1]\n",
    "new_scores['gen'] = new_scores['Ligand'].str.split(\"_\").str[1].str.split(\"gen\").str[1]\n",
    "new_scores['score_best'] = new_scores[\"Binding Affinity\"][\"amin\"]\n",
    "new_scores['score_avg'] = new_scores[\"Binding Affinity\"][\"average\"]\n",
    "new_scores = new_scores[['id','gen','score_best','score_avg']]\n",
    "new_scores.head()"
   ]
  },
  {
   "cell_type": "code",
   "execution_count": null,
   "metadata": {},
   "outputs": [],
   "source": [
    "new_scores.id = new_scores.id.astype(str)\n",
    "new_scores.gen = new_scores.gen.astype(str)\n",
    "final_table.id = final_table.id.astype(str)\n",
    "final_table.gen = final_table.gen.astype(str)"
   ]
  },
  {
   "cell_type": "code",
   "execution_count": null,
   "metadata": {},
   "outputs": [],
   "source": [
    "new_table = pd.merge(final_table, new_scores, on=['id','gen'], suffixes=('_old','_new'), how='left')\n",
    "new_table['score_best'] = new_table[('score_best', '')]\n",
    "new_table['score_avg'] = new_table[('score_avg', '')]\n",
    "new_table = new_table.drop([('score_best', ''),('score_avg', '')], axis=1)\n",
    "new_table = new_table.sort_values('score_best', ascending=True)\n",
    "new_table.tail()"
   ]
  },
  {
   "cell_type": "code",
   "execution_count": null,
   "metadata": {},
   "outputs": [],
   "source": [
    "new_table.columns"
   ]
  },
  {
   "cell_type": "code",
   "execution_count": null,
   "metadata": {},
   "outputs": [],
   "source": [
    "hiv_smiles = new_table[(new_table['source'] == 'hiv') & (new_table['score_best'].notnull())]\n",
    "hiv_smiles_list = list(hiv_smiles['smile'])\n",
    "hiv_smiles.head(20)"
   ]
  },
  {
   "cell_type": "code",
   "execution_count": null,
   "metadata": {},
   "outputs": [],
   "source": [
    "hiv_fingerprints = []\n",
    "for smile in hiv_smiles_list:\n",
    "    hiv_fingerprints.append(Chem.RDKFingerprint(Chem.MolFromSmiles(smile)))\n",
    "\n",
    "def calc_hiv_similarity_score(row):\n",
    "    fingerprint = Chem.RDKFingerprint(Chem.MolFromSmiles(row['smile']))\n",
    "    similarity = np.mean(DataStructs.BulkTanimotoSimilarity(fingerprint,hiv_fingerprints))\n",
    "    return similarity\n",
    "\n",
    "remdesivir_fingerprint = Chem.RDKFingerprint(Chem.MolFromSmiles('CCC(CC)COC(=O)[C@H](C)NP(=O)(OC[C@H]1O[C@](C#N)([C@H](O)[C@@H]1O)C1=CC=C2N1N=CN=C2N)OC1=CC=CC=C1'))\n",
    "\n",
    "new_table['similarity_to_hiv_inhibitors'] = new_table.apply(calc_hiv_similarity_score, axis=1)\n",
    "new_table['similarity_to_remdesivir'] = new_table['smile'].apply(lambda x: DataStructs.TanimotoSimilarity(Chem.RDKFingerprint(Chem.MolFromSmiles(x)),remdesivir_fingerprint))\n",
    "new_table.head(50)"
   ]
  },
  {
   "cell_type": "code",
   "execution_count": null,
   "metadata": {},
   "outputs": [],
   "source": [
    "new_table.to_csv(r'./generations/master_results_table_final.csv', index=False)"
   ]
  },
  {
   "cell_type": "code",
   "execution_count": null,
   "metadata": {},
   "outputs": [],
   "source": []
  }
 ],
 "metadata": {
  "kernelspec": {
   "display_name": "Python 3",
   "language": "python",
   "name": "python3"
  },
  "language_info": {
   "codemirror_mode": {
    "name": "ipython",
    "version": 3
   },
   "file_extension": ".py",
   "mimetype": "text/x-python",
   "name": "python",
   "nbconvert_exporter": "python",
   "pygments_lexer": "ipython3",
   "version": "3.6.10"
  }
 },
 "nbformat": 4,
 "nbformat_minor": 4
}
