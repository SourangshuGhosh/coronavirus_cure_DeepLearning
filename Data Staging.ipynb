{
 "cells": [
  {
   "cell_type": "markdown",
   "metadata": {},
   "source": [
    "# Description\n",
    "\n",
    "This notebook is used to concatenate all sources of raw SMILES data and prepare data so that the 'cleanup_smiles.py' script can parse original data (used in training RNN)."
   ]
  },
  {
   "cell_type": "code",
   "execution_count": null,
   "metadata": {},
   "outputs": [],
   "source": [
    "import pandas as pd"
   ]
  },
  {
   "cell_type": "code",
   "execution_count": null,
   "metadata": {},
   "outputs": [],
   "source": [
    "moses_smiles = pd.read_csv('./datasets/moses_dataset_v1.txt',sep=',')\n",
    "print(moses_smiles.shape)\n",
    "moses_smiles = moses_smiles[moses_smiles['SMILES'].notnull()]\n",
    "print(moses_smiles.shape)\n",
    "moses_smiles['smiles'] = moses_smiles[\"SMILES\"]\n",
    "moses_smiles['length'] = moses_smiles[\"smiles\"].str.len()\n",
    "moses_smiles.head()"
   ]
  },
  {
   "cell_type": "code",
   "execution_count": null,
   "metadata": {},
   "outputs": [],
   "source": [
    "chembl_smiles = pd.read_csv('./datasets/CHEMBL25-chembl_molecule.csv',sep=';')\n",
    "print(chembl_smiles.shape)\n",
    "chembl_smiles = chembl_smiles[chembl_smiles['Smiles'].notnull()]\n",
    "print(chembl_smiles.shape)\n",
    "chembl_smiles['smiles'] = chembl_smiles[\"Smiles\"]\n",
    "chembl_smiles['length'] = chembl_smiles[\"smiles\"].str.len()\n",
    "chembl_smiles.head()"
   ]
  },
  {
   "cell_type": "code",
   "execution_count": null,
   "metadata": {},
   "outputs": [],
   "source": [
    "# Load existing smiles from original dataset\n",
    "old_smiles = pd.read_csv('./datasets/dataset.smi', names=[\"smiles\"])\n",
    "old_smiles['length'] = old_smiles[\"smiles\"].str.len() "
   ]
  },
  {
   "cell_type": "code",
   "execution_count": null,
   "metadata": {},
   "outputs": [],
   "source": [
    "# They are ready to be appended once run through a canonizer and then drop duplicates\n",
    "moses_smiles = moses_smiles['smiles']\n",
    "print(moses_smiles.shape)\n",
    "moses_smiles = moses_smiles.drop_duplicates()\n",
    "print(moses_smiles.shape)"
   ]
  },
  {
   "cell_type": "code",
   "execution_count": null,
   "metadata": {},
   "outputs": [],
   "source": [
    "# They are ready to be appended once run through a canonizer and then drop duplicates\n",
    "chembl_smiles = chembl_smiles['smiles']\n",
    "print(chembl_smiles.shape)\n",
    "chembl_smiles = chembl_smiles.drop_duplicates()\n",
    "print(chembl_smiles.shape)"
   ]
  },
  {
   "cell_type": "code",
   "execution_count": null,
   "metadata": {},
   "outputs": [],
   "source": [
    "old_smiles = old_smiles['smiles']\n",
    "print(old_smiles.shape)\n",
    "old_smiles = old_smiles.drop_duplicates()\n",
    "print(old_smiles.shape)"
   ]
  },
  {
   "cell_type": "code",
   "execution_count": null,
   "metadata": {},
   "outputs": [],
   "source": [
    "smiles = moses_smiles.append(chembl_smiles)\n",
    "print(smiles.shape)\n",
    "smiles = smiles.drop_duplicates()\n",
    "print(smiles.shape)\n",
    "smiles = smiles.append(old_smiles)\n",
    "print(smiles.shape)\n",
    "smiles = smiles.drop_duplicates()\n",
    "print(smiles.shape)"
   ]
  },
  {
   "cell_type": "code",
   "execution_count": null,
   "metadata": {},
   "outputs": [],
   "source": [
    "smiles.head()"
   ]
  },
  {
   "cell_type": "code",
   "execution_count": null,
   "metadata": {},
   "outputs": [],
   "source": [
    "smiles.to_csv(r'./datasets/all_smiles.smi', header=None, index=None, sep='\\t', mode='a')"
   ]
  },
  {
   "cell_type": "code",
   "execution_count": null,
   "metadata": {},
   "outputs": [],
   "source": [
    "# Manually append HIV inhibitors list and remove duplicates to see if currently has any of them\n",
    "all_smiles_test = pd.read_csv('./datasets/all_smiles.smi',sep='\\t', header=None)\n",
    "print(all_smiles_test.shape)\n",
    "all_smiles_test.head()"
   ]
  },
  {
   "cell_type": "code",
   "execution_count": null,
   "metadata": {},
   "outputs": [],
   "source": [
    "# Now can combine these lists and run the data cleaning py script"
   ]
  },
  {
   "cell_type": "markdown",
   "metadata": {},
   "source": [
    "Found HIV inhibitor drug SMILES to manually add above\n",
    "\n",
    "https://pubchem.ncbi.nlm.nih.gov/\n",
    "\n",
    "Tipranavir - 85\n",
    "CCCC1(CC(=C(C(=O)O1)C(CC)C2=CC(=CC=C2)NS(=O)(=O)C3=NC=C(C=C3)C(F)(F)F)O)CCC4=CC=CC=C4\n",
    "Darunavir - 71\n",
    "CC(C)CN(CC(C(CC1=CC=CC=C1)NC(=O)OC2COC3C2CCO3)O)S(=O)(=O)C4=CC=C(C=C4)N\n",
    "Amprenavir - 66\n",
    "CC(C)CN(CC(C(CC1=CC=CC=C1)NC(=O)OC2CCOC2)O)S(=O)(=O)C3=CC=C(C=C3)N\n",
    "Lopinavir - 84\n",
    "CC1=C(C(=CC=C1)C)OCC(=O)NC(CC2=CC=CC=C2)C(CC(CC3=CC=CC=C3)NC(=O)C(C(C)C)N4CCCNC4=O)O\n",
    "Atazanavir - 98\n",
    "CC(C)(C)C(C(=O)NC(CC1=CC=CC=C1)C(CN(CC2=CC=C(C=C2)C3=CC=CC=N3)NC(=O)C(C(C)(C)C)NC(=O)OC)O)NC(=O)OC\n",
    "Saquinavir - 89\n",
    "CC(C)(C)NC(=O)C1CC2CCCCC2CN1CC(C(CC3=CC=CC=C3)NC(=O)C(CC(=O)N)NC(=O)C4=NC5=CC=CC=C5C=C4)O\n",
    "Indinavir - 82\n",
    "CC(C)(C)NC(=O)C1CN(CCN1CC(CC(CC2=CC=CC=C2)C(=O)NC3C(CC4=CC=CC=C34)O)O)CC5=CN=CC=C5\n",
    "Ritonavir - 93\n",
    "CC(C)C1=NC(=CS1)CN(C)C(=O)NC(C(C)C)C(=O)NC(CC2=CC=CC=C2)CC(C(CC3=CC=CC=C3)NC(=O)OCC4=CN=CS4)O\n",
    "Nelfinavir - 70\n",
    "CC1=C(C=CC=C1O)C(=O)NC(CSC2=CC=CC=C2)C(CN3CC4CCCCC4CC3C(=O)NC(C)(C)C)O\n",
    "Efavirenz - 45\n",
    "C1CC1C#CC2(C3=C(C=CC(=C3)Cl)NC(=O)O2)C(F)(F)F\n",
    "\n",
    "GS-8374 - 89\n",
    "CCOP(=O)(COC1=CC=C(C=C1)CC(C(CN(CC(C)C)S(=O)(=O)C2=CC=C(C=C2)OC)O)NC(=O)OC3COC4C3CCO4)OCC\n",
    "https://www.ncbi.nlm.nih.gov/pmc/articles/PMC3957959/\n",
    "\n",
    "SPI-256 - ???\n",
    "http://www.natap.org/2006/CROI/CROI_04.htm\n",
    "\n",
    "See this for more:\n",
    "https://www.ncbi.nlm.nih.gov/pmc/articles/PMC5228633/\n",
    "TMC310911 - 96\n",
    "CC(C)CN(CC(C(CC1=CC=CC=C1)NC(=O)OC2COC3C2CCO3)O)S(=O)(=O)C4=CC5=C(C=C4)N=C(S5)NC6CCN(CC6)C7CCCC7\n",
    "CTP-518 - 98\n",
    "CC(C)(C)C(C(=O)NC(CC1=CC=CC=C1)C(CN(CC2=CC=C(C=C2)C3=CC=CC=N3)NC(=O)C(C(C)(C)C)NC(=O)OC)O)NC(=O)OC\n",
    "PPL-100 - 83\n",
    "CC(C)CN(C(CCCCNC(=O)C(C(C1=CC=CC=C1)C2=CC=CC=C2)NC(=O)OC)CO)S(=O)(=O)C3=CC=C(C=C3)N"
   ]
  }
 ],
 "metadata": {
  "kernelspec": {
   "display_name": "Python 3",
   "language": "python",
   "name": "python3"
  },
  "language_info": {
   "codemirror_mode": {
    "name": "ipython",
    "version": 3
   },
   "file_extension": ".py",
   "mimetype": "text/x-python",
   "name": "python",
   "nbconvert_exporter": "python",
   "pygments_lexer": "ipython3",
   "version": "3.6.10"
  }
 },
 "nbformat": 4,
 "nbformat_minor": 4
}
